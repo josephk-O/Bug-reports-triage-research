{
 "cells": [
  {
   "cell_type": "code",
   "execution_count": null,
   "metadata": {},
   "outputs": [],
   "source": [
    "\n",
    "import numpy as np\n",
    "import pandas as pd\n",
    "import preprocess2\n",
    "\n",
    "from bertopic import BERTopic\n",
    "from bertopic.dimensionality import BaseDimensionalityReduction\n",
    "from bertopic.vectorizers import ClassTfidfTransformer\n",
    "from imblearn.combine import SMOTEENN\n",
    "from imblearn.over_sampling import SMOTE\n",
    "from imblearn.under_sampling import RandomUnderSampler\n",
    "from sklearn.ensemble import AdaBoostClassifier, RandomForestClassifier, StackingClassifier\n",
    "from sklearn.feature_extraction.text import TfidfVectorizer\n",
    "from sklearn.feature_selection import SelectKBest, chi2, f_classif\n",
    "from sklearn.linear_model import LogisticRegression\n",
    "from sklearn.metrics import classification_report, confusion_matrix\n",
    "from sklearn.model_selection import GridSearchCV, train_test_split\n",
    "from sklearn.naive_bayes import GaussianNB\n",
    "from sklearn.preprocessing import LabelEncoder\n",
    "from sklearn.tree import DecisionTreeClassifier\n",
    "from sentence_transformers import SentenceTransformer\n",
    "\n"
   ]
  },
  {
   "cell_type": "code",
   "execution_count": 60,
   "metadata": {},
   "outputs": [
    {
     "name": "stderr",
     "output_type": "stream",
     "text": [
      "Batches: 100%|██████████| 71/71 [00:11<00:00,  6.44it/s]\n"
     ]
    }
   ],
   "source": [
    "\n",
    "# Load and preprocess data\n",
    "\n",
    "df = pd.read_excel('./clean_dataset/file.xlsx')\n",
    "df.drop(columns=['commit_message', 'project', 'Unnamed: 0', 'availability_impact', 'access_complexity','confidentiality_impact', 'integrity_impact' ], inplace=True)\n",
    "df = df.dropna()\n",
    "\n",
    "df = preprocess2.preprocess(df)\n",
    "\n",
    "df['summary'] = df['summary'].astype('str')\n",
    "\n",
    "###--create severity_level\n",
    "bins = [0, 0.9, 3, 3.9, 6.9, 10]  # The range is left-inclusive and right-exclusive\n",
    "labels = ['none', 'low', 'medium', 'high', 'critical']\n",
    "df['score_category'] = pd.cut(df['score'], bins=bins, labels=labels, right=True, include_lowest=True)\n",
    "\n",
    "# Split data into training and testing sets\n",
    "train_df, test_df = train_test_split(df, test_size=0.2, stratify=df['score_category'], random_state=42)\n",
    "\n",
    "# Prepare data and extract embeddings\n",
    "sentence_model = SentenceTransformer(\"all-MiniLM-L6-v2\")\n",
    "docs = train_df['summary'].reset_index(drop=True)\n",
    "embeddings_train = sentence_model.encode(docs, show_progress_bar=True)\n",
    "\n",
    "# Create a fully supervised BERTopic instance\n",
    "empty_dimensionality_model = BaseDimensionalityReduction()\n"
   ]
  },
  {
   "cell_type": "code",
   "execution_count": null,
   "metadata": {},
   "outputs": [],
   "source": [
    "clf = LogisticRegression()\n",
    "ctfidf_model = ClassTfidfTransformer(reduce_frequent_words=True)\n"
   ]
  },
  {
   "cell_type": "code",
   "execution_count": null,
   "metadata": {},
   "outputs": [],
   "source": [
    "\n",
    "topic_model = BERTopic(\n",
    "    embedding_model=sentence_model,\n",
    "    umap_model=empty_dimensionality_model,\n",
    "    hdbscan_model=clf,\n",
    "    ctfidf_model=ctfidf_model\n",
    ")\n",
    "\n",
    "# ... [previous code]\n",
    "\n",
    "# Encode the 'severity_rating' column into integer labels\n",
    "severity_encoder = LabelEncoder()\n",
    "encoded_severity = severity_encoder.fit_transform(train_df['score_category'])\n",
    "\n",
    "# Train BERTopic in a supervised manner using the encoded severity ratings as labels\n",
    "topics_train, _ = topic_model.fit_transform(docs, y=encoded_severity)\n",
    "train_df['topics'] = topics_train\n",
    "\n",
    "\n"
   ]
  },
  {
   "cell_type": "code",
   "execution_count": null,
   "metadata": {},
   "outputs": [],
   "source": [
    "\n",
    "# Transform test data using the trained topic model\n",
    "#topics_test, _ = topic_model.transform(test_df['description'])\n",
    "#test_df['topics'] = topics_test\n",
    "\n",
    "\n",
    "# Reset the index of test_df\n",
    "test_df = test_df.reset_index(drop=True)\n",
    "\n",
    "# Ensure there are no NaN values in the 'description' column of test_df\n",
    "#assert test_df['description'].isna().sum() == 0, \"There are NaN values in the 'title' column of test_df\"\n",
    "\n",
    "# Transform test data using the trained topic model\n",
    "topics_test, _ = topic_model.transform(test_df['summary'])\n",
    "test_df['topics'] = topics_test\n",
    "\n",
    "topic_info = topic_model.get_topic_info()\n",
    "train_df['topic_words'] = train_df['topics'].apply(lambda x: topic_info.loc[x, 'Representation'] if x != -1 else \"NoisyTopic\")\n",
    "test_df['topic_words'] = test_df['topics'].apply(lambda x: topic_info.loc[x, 'Representation'] if x != -1 else \"NoisyTopic\")\n",
    "\n",
    "# Generate features for training and test data\n",
    "train_df['topic_words_str'] = train_df['topic_words'].apply(' '.join)\n",
    "test_df['topic_words_str'] = test_df['topic_words'].apply(' '.join)\n",
    "\n",
    "\n",
    "vectorizer = TfidfVectorizer()\n",
    "X_train_words = vectorizer.fit_transform(train_df['topic_words_str'])\n",
    "X_test_words = vectorizer.transform(test_df['topic_words_str'])\n",
    "\n",
    "\n",
    "# One-hot encode the 'vuln_type' column\n",
    "train_vuln_type_encoded = pd.get_dummies(train_df['vulnerability_classification'], prefix='vulnerability_classification')\n",
    "test_vuln_type_encoded = pd.get_dummies(test_df['vulnerability_classification'], prefix='vulnerability_classification')\n",
    "\n",
    "# Ensure both training and test data have the same columns after one-hot encoding\n",
    "missing_cols = set(train_vuln_type_encoded.columns) - set(test_vuln_type_encoded.columns)\n",
    "for c in missing_cols:\n",
    "    test_vuln_type_encoded[c] = 0\n",
    "test_vuln_type_encoded = test_vuln_type_encoded[train_vuln_type_encoded.columns]\n",
    "\n",
    "# Combine with the original features\n",
    "X_train_combined = pd.concat([train_df[['topics']].reset_index(drop=True), \n",
    "                              pd.DataFrame(X_train_words.toarray(), columns=vectorizer.get_feature_names_out()),\n",
    "                              train_vuln_type_encoded.reset_index(drop=True)], axis=1)\n",
    "X_test_combined = pd.concat([test_df[['topics']].reset_index(drop=True), \n",
    "                             pd.DataFrame(X_test_words.toarray(), columns=vectorizer.get_feature_names_out()),\n",
    "                             test_vuln_type_encoded.reset_index(drop=True)], axis=1)\n",
    "\n",
    "le = LabelEncoder()\n",
    "y_train = le.fit_transform(train_df['score_category'])\n",
    "y_test = le.transform(test_df['score_category'])\n"
   ]
  },
  {
   "cell_type": "code",
   "execution_count": null,
   "metadata": {},
   "outputs": [],
   "source": [
    "#####--->>>>>>IMBALANCE<<--------####################\n",
    "#X_train_resampled, y_train_resampled = X_train_combined, y_train\n",
    "\n",
    "\n",
    "\n",
    "####------>>SMOTEEN<<------------- #########\n",
    "#smote = SMOTE(k_neighbors = 4, random_state=42)\n",
    "#sme = SMOTEENN(smote=smote, random_state=42)\n",
    "#X_train_resampled, y_train_resampled = sme.fit_resample(X_train_combined, y_train)\n",
    "\n",
    "\n",
    "\n",
    "######--------->>>>RUS<<<<<--------------#####\n",
    "#rus = RandomUnderSampler(random_state=42)\n",
    "#X_train_resampled, y_train_resampled = rus.fit_resample(X_train_combined, y_train)\n",
    "\n",
    "\n",
    "\n",
    "#####------->>>>>>>SMOTE<<<<-----------------#######\n",
    "smote = SMOTE(k_neighbors = 4, random_state=42)\n",
    "X_train_resampled, y_train_resampled = smote.fit_resample(X_train_combined, y_train)#\n",
    "\n",
    "#####------->>>>>>>SMOTE<<<<-----------------#######\n",
    "smote2 = SMOTE(k_neighbors = 4, random_state=42)\n",
    "X_test_combined, y_test = smote2.fit_resample(X_test_combined, y_test)#\n"
   ]
  },
  {
   "cell_type": "code",
   "execution_count": 59,
   "metadata": {},
   "outputs": [
    {
     "data": {
      "text/plain": [
       "topics\n",
       "0    393\n",
       "1    161\n",
       "2     13\n",
       "Name: count, dtype: int64"
      ]
     },
     "execution_count": 59,
     "metadata": {},
     "output_type": "execute_result"
    }
   ],
   "source": [
    "#X_test_combined.topics.value_counts()\n",
    "test_df.topics.value_counts()"
   ]
  },
  {
   "cell_type": "code",
   "execution_count": null,
   "metadata": {},
   "outputs": [],
   "source": [
    "# Feature selection\n",
    "k = 10  # You might want to adjust this based on the number of features\n",
    "selector = SelectKBest(f_classif, k=k)\n",
    "X_train_selected = selector.fit_transform(X_train_resampled, y_train_resampled)\n",
    "X_test_selected = selector.transform(X_test_combined)\n"
   ]
  },
  {
   "cell_type": "code",
   "execution_count": 64,
   "metadata": {},
   "outputs": [
    {
     "data": {
      "text/plain": [
       "{0: 1, 1: 0, 2: 2, 3: 3, 4: 4}"
      ]
     },
     "execution_count": 64,
     "metadata": {},
     "output_type": "execute_result"
    }
   ],
   "source": [
    "topic_model.topic_mapper_.get_mappings()\n",
    "y_mapped = [mappings[val] for val in y]"
   ]
  },
  {
   "cell_type": "code",
   "execution_count": null,
   "metadata": {},
   "outputs": [],
   "source": [
    "\n",
    "# Initialize and train RandomForest using best_params\n",
    "#best_params = {'bootstrap': True, 'max_depth': 10, 'max_features': None, 'min_samples_leaf': 1, 'min_samples_split': 2, 'n_estimators': 100}\n",
    "best_params = {'bootstrap': True, 'max_depth': 10, 'max_features': None, 'min_samples_leaf': 4, 'min_samples_split': 2, 'n_estimators': 200}\n",
    "\n",
    "clf_best = RandomForestClassifier(**best_params, random_state=42)\n",
    "clf_best.fit(X_train_selected, y_train_resampled)\n",
    "\n",
    "# Evaluate the model\n",
    "print(\"Training accuracy: \", clf_best.score(X_train_selected, y_train_resampled))\n",
    "print(\"Testing accuracy: \", clf_best.score(X_test_selected, y_test))\n",
    "\n",
    "# Print classification report and confusion matrix\n",
    "y_pred = clf_best.predict(X_test_selected)\n",
    "print(classification_report(y_test, y_pred))\n",
    "print(\"\\nConfusion Matrix:\\n\")\n",
    "print(confusion_matrix(y_test, y_pred))\n",
    "\n",
    "# Create a dictionary mapping the original classes to their encoded values\n",
    "class_mapping = {label: idx for idx, label in enumerate(le.classes_)}\n",
    "print(class_mapping)\n",
    "\n"
   ]
  },
  {
   "cell_type": "code",
   "execution_count": null,
   "metadata": {},
   "outputs": [],
   "source": [
    "\n",
    "\n",
    "# Print classification report and confusion matrix\n",
    "x_pred = clf_best.predict(X_train_selected)\n",
    "print(classification_report(y_train_resampled, x_pred))\n",
    "print(\"\\nConfusion Matrix:\\n\")\n",
    "print(confusion_matrix(y_train_resampled, x_pred))\n",
    "\n",
    "# Create a dictionary mapping the original classes to their encoded values\n",
    "class_mapping = {label: idx for idx, label in enumerate(le.classes_)}\n",
    "print(class_mapping)"
   ]
  },
  {
   "cell_type": "code",
   "execution_count": null,
   "metadata": {},
   "outputs": [],
   "source": [
    "X_train_combined"
   ]
  },
  {
   "cell_type": "code",
   "execution_count": null,
   "metadata": {},
   "outputs": [],
   "source": [
    "#########--->>>>>>>STACKING<<--------############\n",
    "\n",
    "# Use Decision Tree as the base estimator for AdaBoost\n",
    "base_estimator = DecisionTreeClassifier(max_depth=1)\n",
    "boosted_tree = AdaBoostClassifier(base_estimator=base_estimator, n_estimators=50, random_state=42)\n",
    "\n",
    "# Define the Naive Bayes model\n",
    "naive_bayes = GaussianNB()\n",
    "\n",
    "# Define the stacking classifier\n",
    "estimators = [\n",
    "    ('boosted_tree', boosted_tree),\n",
    "    ('naive_bayes', naive_bayes)\n",
    "]\n",
    "stacking_classifier = StackingClassifier(estimators=estimators, final_estimator=LogisticRegression())\n",
    "\n",
    "# Define hyperparameters to tune\n",
    "param_grid = {\n",
    "    'boosted_tree__n_estimators': [30, 50, 70],\n",
    "    'boosted_tree__base_estimator__max_depth': [1, 2, 3],\n",
    "    'final_estimator__C': [0.1, 1, 10]\n",
    "}\n",
    "\n",
    "# Use GridSearchCV to find the best hyperparameters\n",
    "grid_search = GridSearchCV(stacking_classifier, param_grid, cv=5, n_jobs=-1, verbose=1)\n",
    "grid_search.fit(X_train_resampled, y_train_resampled)  \n",
    "\n",
    "# Train the stacking classifier with best parameters\n",
    "best_stacking_classifier = grid_search.best_estimator_\n",
    "\n",
    "\n",
    "\n",
    "x_pred = best_stacking_classifier.predict(X_train_resampled)\n",
    "train_accuracy = np.mean(x_pred == y_train_resampled)\n",
    "print(f\"train Accuracy: {train_accuracy * 100:.2f}%\")\n",
    "\n",
    "\n",
    "\n",
    "# Evaluate the stacked model with best parameters\n",
    "y_pred = best_stacking_classifier.predict(X_test_combined)\n",
    "accuracy = np.mean(y_pred == y_test)\n",
    "print(f\"Test Accuracy: {accuracy * 100:.2f}%\")\n",
    "\n",
    "\n",
    "# Print classification report and confusion matrix\n",
    "y_pred = best_stacking_classifier.predict(X_test_combined)\n",
    "print(classification_report(y_test, y_pred))\n",
    "print(\"\\nConfusion Matrix:\\n\")\n",
    "print(confusion_matrix(y_test, y_pred))\n"
   ]
  },
  {
   "cell_type": "code",
   "execution_count": null,
   "metadata": {},
   "outputs": [],
   "source": [
    "\n",
    "\n",
    "# Print classification report and confusion matrix\n",
    "x_pred = best_stacking_classifier.predict(X_train_resampled)\n",
    "print(classification_report(y_train_resampled, x_pred))\n",
    "print(\"\\nConfusion Matrix:\\n\")\n",
    "print(confusion_matrix(y_train_resampled, x_pred))\n",
    "\n",
    "# Create a dictionary mapping the original classes to their encoded values\n",
    "class_mapping = {label: idx for idx, label in enumerate(le.classes_)}\n",
    "print(class_mapping)"
   ]
  },
  {
   "cell_type": "code",
   "execution_count": null,
   "metadata": {},
   "outputs": [],
   "source": []
  }
 ],
 "metadata": {
  "kernelspec": {
   "display_name": "Python 3",
   "language": "python",
   "name": "python3"
  },
  "language_info": {
   "codemirror_mode": {
    "name": "ipython",
    "version": 3
   },
   "file_extension": ".py",
   "mimetype": "text/x-python",
   "name": "python",
   "nbconvert_exporter": "python",
   "pygments_lexer": "ipython3",
   "version": "3.11.4"
  },
  "orig_nbformat": 4
 },
 "nbformat": 4,
 "nbformat_minor": 2
}
